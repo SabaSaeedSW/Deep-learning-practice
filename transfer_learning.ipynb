{
  "cells": [
    {
      "cell_type": "markdown",
      "metadata": {
        "id": "view-in-github",
        "colab_type": "text"
      },
      "source": [
        "<a href=\"https://colab.research.google.com/github/SabaSaeed4/Deep-learning-practice/blob/main/transfer_learning.ipynb\" target=\"_parent\"><img src=\"https://colab.research.google.com/assets/colab-badge.svg\" alt=\"Open In Colab\"/></a>"
      ]
    },
    {
      "cell_type": "code",
      "source": [
        "from google.colab import drive\n",
        "drive.mount('/content/drive')"
      ],
      "metadata": {
        "id": "8ZRWVA7aYg8f",
        "colab": {
          "base_uri": "https://localhost:8080/"
        },
        "outputId": "3fe2c5fb-0306-46cf-bfdf-04de3a14fac6"
      },
      "execution_count": null,
      "outputs": [
        {
          "output_type": "stream",
          "name": "stdout",
          "text": [
            "Mounted at /content/drive\n"
          ]
        }
      ]
    },
    {
      "cell_type": "code",
      "execution_count": null,
      "metadata": {
        "id": "ISHd87ilYIgc"
      },
      "outputs": [],
      "source": [
        "from keras.layers import Input, Lambda, Dense, Flatten # last layer\n",
        "from keras.models import Model \n",
        "from keras.applications.xception import Xception # cut off the last layer. Create four outputby using no: of classes\n",
        "from keras.applications.xception import preprocess_input\n",
        "from keras.preprocessing import image\n",
        "from keras.preprocessing.image import ImageDataGenerator # Do Data Augmentation by generating different images\n",
        "from keras.models import Sequential \n",
        "import numpy as np\n",
        "from glob import glob\n",
        "import matplotlib.pyplot as plt"
      ]
    },
    {
      "cell_type": "code",
      "execution_count": null,
      "metadata": {
        "id": "DQDWnqNZYIgf"
      },
      "outputs": [],
      "source": [
        "IMAGE_SIZE = [224,224]"
      ]
    },
    {
      "cell_type": "code",
      "execution_count": null,
      "metadata": {
        "id": "gc4Fx-pYYIgg"
      },
      "outputs": [],
      "source": [
        "train_path = 'images\\Train'\n",
        "test_path = 'images\\Test'"
      ]
    },
    {
      "cell_type": "code",
      "execution_count": null,
      "metadata": {
        "colab": {
          "base_uri": "https://localhost:8080/"
        },
        "id": "CdYx9HXHYIgh",
        "outputId": "503f5d77-3325-4b58-dfe7-fe79fb9c8ee8"
      },
      "outputs": [
        {
          "output_type": "stream",
          "name": "stdout",
          "text": [
            "Downloading data from https://storage.googleapis.com/tensorflow/keras-applications/xception/xception_weights_tf_dim_ordering_tf_kernels_notop.h5\n",
            "83683744/83683744 [==============================] - 0s 0us/step\n"
          ]
        }
      ],
      "source": [
        "#removed last layer\n",
        "vgg = Xception(input_shape=IMAGE_SIZE + [3], weights='imagenet', include_top= False)"
      ]
    },
    {
      "cell_type": "code",
      "execution_count": null,
      "metadata": {
        "id": "L-RczSppYIgh"
      },
      "outputs": [],
      "source": [
        "for layer in vgg.layers:\n",
        "    layer.trainable = False # beacuse layers are already trained. State-of-art algorithm\n",
        "    "
      ]
    },
    {
      "cell_type": "code",
      "execution_count": null,
      "metadata": {
        "id": "fC-EC1fMYIgh"
      },
      "outputs": [],
      "source": [
        "folders = glob('/content/drive/MyDrive/Colab Notebooks/images/Train/*')"
      ]
    },
    {
      "cell_type": "code",
      "execution_count": null,
      "metadata": {
        "colab": {
          "base_uri": "https://localhost:8080/"
        },
        "id": "xKbJV2u3YIgi",
        "outputId": "095422e3-5279-4286-92d9-3a1a8ff34bdb"
      },
      "outputs": [
        {
          "output_type": "execute_result",
          "data": {
            "text/plain": [
              "['/content/drive/MyDrive/Colab Notebooks/images/Train/tomato',\n",
              " '/content/drive/MyDrive/Colab Notebooks/images/Train/potato',\n",
              " '/content/drive/MyDrive/Colab Notebooks/images/Train/pepper']"
            ]
          },
          "metadata": {},
          "execution_count": 8
        }
      ],
      "source": [
        "folders"
      ]
    },
    {
      "cell_type": "code",
      "execution_count": null,
      "metadata": {
        "id": "Cnyq1xj9YIgj"
      },
      "outputs": [],
      "source": [
        "x = Flatten()(vgg.output)"
      ]
    },
    {
      "cell_type": "code",
      "execution_count": null,
      "metadata": {
        "id": "VjUXVh1jYIgk"
      },
      "outputs": [],
      "source": [
        "prediction = Dense(len(folders), activation='softmax')(x)"
      ]
    },
    {
      "cell_type": "code",
      "execution_count": null,
      "metadata": {
        "id": "ZIdEYgJnYIgk"
      },
      "outputs": [],
      "source": [
        "model = Model(inputs= vgg.input, outputs= prediction)"
      ]
    },
    {
      "cell_type": "code",
      "execution_count": null,
      "metadata": {
        "colab": {
          "base_uri": "https://localhost:8080/"
        },
        "id": "oF5v-tj9YIgk",
        "outputId": "2faa7ed1-cb7a-4317-fd6a-d6fdb7fff3a7"
      },
      "outputs": [
        {
          "output_type": "stream",
          "name": "stdout",
          "text": [
            "Model: \"model\"\n",
            "__________________________________________________________________________________________________\n",
            " Layer (type)                   Output Shape         Param #     Connected to                     \n",
            "==================================================================================================\n",
            " input_1 (InputLayer)           [(None, 224, 224, 3  0           []                               \n",
            "                                )]                                                                \n",
            "                                                                                                  \n",
            " block1_conv1 (Conv2D)          (None, 111, 111, 32  864         ['input_1[0][0]']                \n",
            "                                )                                                                 \n",
            "                                                                                                  \n",
            " block1_conv1_bn (BatchNormaliz  (None, 111, 111, 32  128        ['block1_conv1[0][0]']           \n",
            " ation)                         )                                                                 \n",
            "                                                                                                  \n",
            " block1_conv1_act (Activation)  (None, 111, 111, 32  0           ['block1_conv1_bn[0][0]']        \n",
            "                                )                                                                 \n",
            "                                                                                                  \n",
            " block1_conv2 (Conv2D)          (None, 109, 109, 64  18432       ['block1_conv1_act[0][0]']       \n",
            "                                )                                                                 \n",
            "                                                                                                  \n",
            " block1_conv2_bn (BatchNormaliz  (None, 109, 109, 64  256        ['block1_conv2[0][0]']           \n",
            " ation)                         )                                                                 \n",
            "                                                                                                  \n",
            " block1_conv2_act (Activation)  (None, 109, 109, 64  0           ['block1_conv2_bn[0][0]']        \n",
            "                                )                                                                 \n",
            "                                                                                                  \n",
            " block2_sepconv1 (SeparableConv  (None, 109, 109, 12  8768       ['block1_conv2_act[0][0]']       \n",
            " 2D)                            8)                                                                \n",
            "                                                                                                  \n",
            " block2_sepconv1_bn (BatchNorma  (None, 109, 109, 12  512        ['block2_sepconv1[0][0]']        \n",
            " lization)                      8)                                                                \n",
            "                                                                                                  \n",
            " block2_sepconv2_act (Activatio  (None, 109, 109, 12  0          ['block2_sepconv1_bn[0][0]']     \n",
            " n)                             8)                                                                \n",
            "                                                                                                  \n",
            " block2_sepconv2 (SeparableConv  (None, 109, 109, 12  17536      ['block2_sepconv2_act[0][0]']    \n",
            " 2D)                            8)                                                                \n",
            "                                                                                                  \n",
            " block2_sepconv2_bn (BatchNorma  (None, 109, 109, 12  512        ['block2_sepconv2[0][0]']        \n",
            " lization)                      8)                                                                \n",
            "                                                                                                  \n",
            " conv2d (Conv2D)                (None, 55, 55, 128)  8192        ['block1_conv2_act[0][0]']       \n",
            "                                                                                                  \n",
            " block2_pool (MaxPooling2D)     (None, 55, 55, 128)  0           ['block2_sepconv2_bn[0][0]']     \n",
            "                                                                                                  \n",
            " batch_normalization (BatchNorm  (None, 55, 55, 128)  512        ['conv2d[0][0]']                 \n",
            " alization)                                                                                       \n",
            "                                                                                                  \n",
            " add (Add)                      (None, 55, 55, 128)  0           ['block2_pool[0][0]',            \n",
            "                                                                  'batch_normalization[0][0]']    \n",
            "                                                                                                  \n",
            " block3_sepconv1_act (Activatio  (None, 55, 55, 128)  0          ['add[0][0]']                    \n",
            " n)                                                                                               \n",
            "                                                                                                  \n",
            " block3_sepconv1 (SeparableConv  (None, 55, 55, 256)  33920      ['block3_sepconv1_act[0][0]']    \n",
            " 2D)                                                                                              \n",
            "                                                                                                  \n",
            " block3_sepconv1_bn (BatchNorma  (None, 55, 55, 256)  1024       ['block3_sepconv1[0][0]']        \n",
            " lization)                                                                                        \n",
            "                                                                                                  \n",
            " block3_sepconv2_act (Activatio  (None, 55, 55, 256)  0          ['block3_sepconv1_bn[0][0]']     \n",
            " n)                                                                                               \n",
            "                                                                                                  \n",
            " block3_sepconv2 (SeparableConv  (None, 55, 55, 256)  67840      ['block3_sepconv2_act[0][0]']    \n",
            " 2D)                                                                                              \n",
            "                                                                                                  \n",
            " block3_sepconv2_bn (BatchNorma  (None, 55, 55, 256)  1024       ['block3_sepconv2[0][0]']        \n",
            " lization)                                                                                        \n",
            "                                                                                                  \n",
            " conv2d_1 (Conv2D)              (None, 28, 28, 256)  32768       ['add[0][0]']                    \n",
            "                                                                                                  \n",
            " block3_pool (MaxPooling2D)     (None, 28, 28, 256)  0           ['block3_sepconv2_bn[0][0]']     \n",
            "                                                                                                  \n",
            " batch_normalization_1 (BatchNo  (None, 28, 28, 256)  1024       ['conv2d_1[0][0]']               \n",
            " rmalization)                                                                                     \n",
            "                                                                                                  \n",
            " add_1 (Add)                    (None, 28, 28, 256)  0           ['block3_pool[0][0]',            \n",
            "                                                                  'batch_normalization_1[0][0]']  \n",
            "                                                                                                  \n",
            " block4_sepconv1_act (Activatio  (None, 28, 28, 256)  0          ['add_1[0][0]']                  \n",
            " n)                                                                                               \n",
            "                                                                                                  \n",
            " block4_sepconv1 (SeparableConv  (None, 28, 28, 728)  188672     ['block4_sepconv1_act[0][0]']    \n",
            " 2D)                                                                                              \n",
            "                                                                                                  \n",
            " block4_sepconv1_bn (BatchNorma  (None, 28, 28, 728)  2912       ['block4_sepconv1[0][0]']        \n",
            " lization)                                                                                        \n",
            "                                                                                                  \n",
            " block4_sepconv2_act (Activatio  (None, 28, 28, 728)  0          ['block4_sepconv1_bn[0][0]']     \n",
            " n)                                                                                               \n",
            "                                                                                                  \n",
            " block4_sepconv2 (SeparableConv  (None, 28, 28, 728)  536536     ['block4_sepconv2_act[0][0]']    \n",
            " 2D)                                                                                              \n",
            "                                                                                                  \n",
            " block4_sepconv2_bn (BatchNorma  (None, 28, 28, 728)  2912       ['block4_sepconv2[0][0]']        \n",
            " lization)                                                                                        \n",
            "                                                                                                  \n",
            " conv2d_2 (Conv2D)              (None, 14, 14, 728)  186368      ['add_1[0][0]']                  \n",
            "                                                                                                  \n",
            " block4_pool (MaxPooling2D)     (None, 14, 14, 728)  0           ['block4_sepconv2_bn[0][0]']     \n",
            "                                                                                                  \n",
            " batch_normalization_2 (BatchNo  (None, 14, 14, 728)  2912       ['conv2d_2[0][0]']               \n",
            " rmalization)                                                                                     \n",
            "                                                                                                  \n",
            " add_2 (Add)                    (None, 14, 14, 728)  0           ['block4_pool[0][0]',            \n",
            "                                                                  'batch_normalization_2[0][0]']  \n",
            "                                                                                                  \n",
            " block5_sepconv1_act (Activatio  (None, 14, 14, 728)  0          ['add_2[0][0]']                  \n",
            " n)                                                                                               \n",
            "                                                                                                  \n",
            " block5_sepconv1 (SeparableConv  (None, 14, 14, 728)  536536     ['block5_sepconv1_act[0][0]']    \n",
            " 2D)                                                                                              \n",
            "                                                                                                  \n",
            " block5_sepconv1_bn (BatchNorma  (None, 14, 14, 728)  2912       ['block5_sepconv1[0][0]']        \n",
            " lization)                                                                                        \n",
            "                                                                                                  \n",
            " block5_sepconv2_act (Activatio  (None, 14, 14, 728)  0          ['block5_sepconv1_bn[0][0]']     \n",
            " n)                                                                                               \n",
            "                                                                                                  \n",
            " block5_sepconv2 (SeparableConv  (None, 14, 14, 728)  536536     ['block5_sepconv2_act[0][0]']    \n",
            " 2D)                                                                                              \n",
            "                                                                                                  \n",
            " block5_sepconv2_bn (BatchNorma  (None, 14, 14, 728)  2912       ['block5_sepconv2[0][0]']        \n",
            " lization)                                                                                        \n",
            "                                                                                                  \n",
            " block5_sepconv3_act (Activatio  (None, 14, 14, 728)  0          ['block5_sepconv2_bn[0][0]']     \n",
            " n)                                                                                               \n",
            "                                                                                                  \n",
            " block5_sepconv3 (SeparableConv  (None, 14, 14, 728)  536536     ['block5_sepconv3_act[0][0]']    \n",
            " 2D)                                                                                              \n",
            "                                                                                                  \n",
            " block5_sepconv3_bn (BatchNorma  (None, 14, 14, 728)  2912       ['block5_sepconv3[0][0]']        \n",
            " lization)                                                                                        \n",
            "                                                                                                  \n",
            " add_3 (Add)                    (None, 14, 14, 728)  0           ['block5_sepconv3_bn[0][0]',     \n",
            "                                                                  'add_2[0][0]']                  \n",
            "                                                                                                  \n",
            " block6_sepconv1_act (Activatio  (None, 14, 14, 728)  0          ['add_3[0][0]']                  \n",
            " n)                                                                                               \n",
            "                                                                                                  \n",
            " block6_sepconv1 (SeparableConv  (None, 14, 14, 728)  536536     ['block6_sepconv1_act[0][0]']    \n",
            " 2D)                                                                                              \n",
            "                                                                                                  \n",
            " block6_sepconv1_bn (BatchNorma  (None, 14, 14, 728)  2912       ['block6_sepconv1[0][0]']        \n",
            " lization)                                                                                        \n",
            "                                                                                                  \n",
            " block6_sepconv2_act (Activatio  (None, 14, 14, 728)  0          ['block6_sepconv1_bn[0][0]']     \n",
            " n)                                                                                               \n",
            "                                                                                                  \n",
            " block6_sepconv2 (SeparableConv  (None, 14, 14, 728)  536536     ['block6_sepconv2_act[0][0]']    \n",
            " 2D)                                                                                              \n",
            "                                                                                                  \n",
            " block6_sepconv2_bn (BatchNorma  (None, 14, 14, 728)  2912       ['block6_sepconv2[0][0]']        \n",
            " lization)                                                                                        \n",
            "                                                                                                  \n",
            " block6_sepconv3_act (Activatio  (None, 14, 14, 728)  0          ['block6_sepconv2_bn[0][0]']     \n",
            " n)                                                                                               \n",
            "                                                                                                  \n",
            " block6_sepconv3 (SeparableConv  (None, 14, 14, 728)  536536     ['block6_sepconv3_act[0][0]']    \n",
            " 2D)                                                                                              \n",
            "                                                                                                  \n",
            " block6_sepconv3_bn (BatchNorma  (None, 14, 14, 728)  2912       ['block6_sepconv3[0][0]']        \n",
            " lization)                                                                                        \n",
            "                                                                                                  \n",
            " add_4 (Add)                    (None, 14, 14, 728)  0           ['block6_sepconv3_bn[0][0]',     \n",
            "                                                                  'add_3[0][0]']                  \n",
            "                                                                                                  \n",
            " block7_sepconv1_act (Activatio  (None, 14, 14, 728)  0          ['add_4[0][0]']                  \n",
            " n)                                                                                               \n",
            "                                                                                                  \n",
            " block7_sepconv1 (SeparableConv  (None, 14, 14, 728)  536536     ['block7_sepconv1_act[0][0]']    \n",
            " 2D)                                                                                              \n",
            "                                                                                                  \n",
            " block7_sepconv1_bn (BatchNorma  (None, 14, 14, 728)  2912       ['block7_sepconv1[0][0]']        \n",
            " lization)                                                                                        \n",
            "                                                                                                  \n",
            " block7_sepconv2_act (Activatio  (None, 14, 14, 728)  0          ['block7_sepconv1_bn[0][0]']     \n",
            " n)                                                                                               \n",
            "                                                                                                  \n",
            " block7_sepconv2 (SeparableConv  (None, 14, 14, 728)  536536     ['block7_sepconv2_act[0][0]']    \n",
            " 2D)                                                                                              \n",
            "                                                                                                  \n",
            " block7_sepconv2_bn (BatchNorma  (None, 14, 14, 728)  2912       ['block7_sepconv2[0][0]']        \n",
            " lization)                                                                                        \n",
            "                                                                                                  \n",
            " block7_sepconv3_act (Activatio  (None, 14, 14, 728)  0          ['block7_sepconv2_bn[0][0]']     \n",
            " n)                                                                                               \n",
            "                                                                                                  \n",
            " block7_sepconv3 (SeparableConv  (None, 14, 14, 728)  536536     ['block7_sepconv3_act[0][0]']    \n",
            " 2D)                                                                                              \n",
            "                                                                                                  \n",
            " block7_sepconv3_bn (BatchNorma  (None, 14, 14, 728)  2912       ['block7_sepconv3[0][0]']        \n",
            " lization)                                                                                        \n",
            "                                                                                                  \n",
            " add_5 (Add)                    (None, 14, 14, 728)  0           ['block7_sepconv3_bn[0][0]',     \n",
            "                                                                  'add_4[0][0]']                  \n",
            "                                                                                                  \n",
            " block8_sepconv1_act (Activatio  (None, 14, 14, 728)  0          ['add_5[0][0]']                  \n",
            " n)                                                                                               \n",
            "                                                                                                  \n",
            " block8_sepconv1 (SeparableConv  (None, 14, 14, 728)  536536     ['block8_sepconv1_act[0][0]']    \n",
            " 2D)                                                                                              \n",
            "                                                                                                  \n",
            " block8_sepconv1_bn (BatchNorma  (None, 14, 14, 728)  2912       ['block8_sepconv1[0][0]']        \n",
            " lization)                                                                                        \n",
            "                                                                                                  \n",
            " block8_sepconv2_act (Activatio  (None, 14, 14, 728)  0          ['block8_sepconv1_bn[0][0]']     \n",
            " n)                                                                                               \n",
            "                                                                                                  \n",
            " block8_sepconv2 (SeparableConv  (None, 14, 14, 728)  536536     ['block8_sepconv2_act[0][0]']    \n",
            " 2D)                                                                                              \n",
            "                                                                                                  \n",
            " block8_sepconv2_bn (BatchNorma  (None, 14, 14, 728)  2912       ['block8_sepconv2[0][0]']        \n",
            " lization)                                                                                        \n",
            "                                                                                                  \n",
            " block8_sepconv3_act (Activatio  (None, 14, 14, 728)  0          ['block8_sepconv2_bn[0][0]']     \n",
            " n)                                                                                               \n",
            "                                                                                                  \n",
            " block8_sepconv3 (SeparableConv  (None, 14, 14, 728)  536536     ['block8_sepconv3_act[0][0]']    \n",
            " 2D)                                                                                              \n",
            "                                                                                                  \n",
            " block8_sepconv3_bn (BatchNorma  (None, 14, 14, 728)  2912       ['block8_sepconv3[0][0]']        \n",
            " lization)                                                                                        \n",
            "                                                                                                  \n",
            " add_6 (Add)                    (None, 14, 14, 728)  0           ['block8_sepconv3_bn[0][0]',     \n",
            "                                                                  'add_5[0][0]']                  \n",
            "                                                                                                  \n",
            " block9_sepconv1_act (Activatio  (None, 14, 14, 728)  0          ['add_6[0][0]']                  \n",
            " n)                                                                                               \n",
            "                                                                                                  \n",
            " block9_sepconv1 (SeparableConv  (None, 14, 14, 728)  536536     ['block9_sepconv1_act[0][0]']    \n",
            " 2D)                                                                                              \n",
            "                                                                                                  \n",
            " block9_sepconv1_bn (BatchNorma  (None, 14, 14, 728)  2912       ['block9_sepconv1[0][0]']        \n",
            " lization)                                                                                        \n",
            "                                                                                                  \n",
            " block9_sepconv2_act (Activatio  (None, 14, 14, 728)  0          ['block9_sepconv1_bn[0][0]']     \n",
            " n)                                                                                               \n",
            "                                                                                                  \n",
            " block9_sepconv2 (SeparableConv  (None, 14, 14, 728)  536536     ['block9_sepconv2_act[0][0]']    \n",
            " 2D)                                                                                              \n",
            "                                                                                                  \n",
            " block9_sepconv2_bn (BatchNorma  (None, 14, 14, 728)  2912       ['block9_sepconv2[0][0]']        \n",
            " lization)                                                                                        \n",
            "                                                                                                  \n",
            " block9_sepconv3_act (Activatio  (None, 14, 14, 728)  0          ['block9_sepconv2_bn[0][0]']     \n",
            " n)                                                                                               \n",
            "                                                                                                  \n",
            " block9_sepconv3 (SeparableConv  (None, 14, 14, 728)  536536     ['block9_sepconv3_act[0][0]']    \n",
            " 2D)                                                                                              \n",
            "                                                                                                  \n",
            " block9_sepconv3_bn (BatchNorma  (None, 14, 14, 728)  2912       ['block9_sepconv3[0][0]']        \n",
            " lization)                                                                                        \n",
            "                                                                                                  \n",
            " add_7 (Add)                    (None, 14, 14, 728)  0           ['block9_sepconv3_bn[0][0]',     \n",
            "                                                                  'add_6[0][0]']                  \n",
            "                                                                                                  \n",
            " block10_sepconv1_act (Activati  (None, 14, 14, 728)  0          ['add_7[0][0]']                  \n",
            " on)                                                                                              \n",
            "                                                                                                  \n",
            " block10_sepconv1 (SeparableCon  (None, 14, 14, 728)  536536     ['block10_sepconv1_act[0][0]']   \n",
            " v2D)                                                                                             \n",
            "                                                                                                  \n",
            " block10_sepconv1_bn (BatchNorm  (None, 14, 14, 728)  2912       ['block10_sepconv1[0][0]']       \n",
            " alization)                                                                                       \n",
            "                                                                                                  \n",
            " block10_sepconv2_act (Activati  (None, 14, 14, 728)  0          ['block10_sepconv1_bn[0][0]']    \n",
            " on)                                                                                              \n",
            "                                                                                                  \n",
            " block10_sepconv2 (SeparableCon  (None, 14, 14, 728)  536536     ['block10_sepconv2_act[0][0]']   \n",
            " v2D)                                                                                             \n",
            "                                                                                                  \n",
            " block10_sepconv2_bn (BatchNorm  (None, 14, 14, 728)  2912       ['block10_sepconv2[0][0]']       \n",
            " alization)                                                                                       \n",
            "                                                                                                  \n",
            " block10_sepconv3_act (Activati  (None, 14, 14, 728)  0          ['block10_sepconv2_bn[0][0]']    \n",
            " on)                                                                                              \n",
            "                                                                                                  \n",
            " block10_sepconv3 (SeparableCon  (None, 14, 14, 728)  536536     ['block10_sepconv3_act[0][0]']   \n",
            " v2D)                                                                                             \n",
            "                                                                                                  \n",
            " block10_sepconv3_bn (BatchNorm  (None, 14, 14, 728)  2912       ['block10_sepconv3[0][0]']       \n",
            " alization)                                                                                       \n",
            "                                                                                                  \n",
            " add_8 (Add)                    (None, 14, 14, 728)  0           ['block10_sepconv3_bn[0][0]',    \n",
            "                                                                  'add_7[0][0]']                  \n",
            "                                                                                                  \n",
            " block11_sepconv1_act (Activati  (None, 14, 14, 728)  0          ['add_8[0][0]']                  \n",
            " on)                                                                                              \n",
            "                                                                                                  \n",
            " block11_sepconv1 (SeparableCon  (None, 14, 14, 728)  536536     ['block11_sepconv1_act[0][0]']   \n",
            " v2D)                                                                                             \n",
            "                                                                                                  \n",
            " block11_sepconv1_bn (BatchNorm  (None, 14, 14, 728)  2912       ['block11_sepconv1[0][0]']       \n",
            " alization)                                                                                       \n",
            "                                                                                                  \n",
            " block11_sepconv2_act (Activati  (None, 14, 14, 728)  0          ['block11_sepconv1_bn[0][0]']    \n",
            " on)                                                                                              \n",
            "                                                                                                  \n",
            " block11_sepconv2 (SeparableCon  (None, 14, 14, 728)  536536     ['block11_sepconv2_act[0][0]']   \n",
            " v2D)                                                                                             \n",
            "                                                                                                  \n",
            " block11_sepconv2_bn (BatchNorm  (None, 14, 14, 728)  2912       ['block11_sepconv2[0][0]']       \n",
            " alization)                                                                                       \n",
            "                                                                                                  \n",
            " block11_sepconv3_act (Activati  (None, 14, 14, 728)  0          ['block11_sepconv2_bn[0][0]']    \n",
            " on)                                                                                              \n",
            "                                                                                                  \n",
            " block11_sepconv3 (SeparableCon  (None, 14, 14, 728)  536536     ['block11_sepconv3_act[0][0]']   \n",
            " v2D)                                                                                             \n",
            "                                                                                                  \n",
            " block11_sepconv3_bn (BatchNorm  (None, 14, 14, 728)  2912       ['block11_sepconv3[0][0]']       \n",
            " alization)                                                                                       \n",
            "                                                                                                  \n",
            " add_9 (Add)                    (None, 14, 14, 728)  0           ['block11_sepconv3_bn[0][0]',    \n",
            "                                                                  'add_8[0][0]']                  \n",
            "                                                                                                  \n",
            " block12_sepconv1_act (Activati  (None, 14, 14, 728)  0          ['add_9[0][0]']                  \n",
            " on)                                                                                              \n",
            "                                                                                                  \n",
            " block12_sepconv1 (SeparableCon  (None, 14, 14, 728)  536536     ['block12_sepconv1_act[0][0]']   \n",
            " v2D)                                                                                             \n",
            "                                                                                                  \n",
            " block12_sepconv1_bn (BatchNorm  (None, 14, 14, 728)  2912       ['block12_sepconv1[0][0]']       \n",
            " alization)                                                                                       \n",
            "                                                                                                  \n",
            " block12_sepconv2_act (Activati  (None, 14, 14, 728)  0          ['block12_sepconv1_bn[0][0]']    \n",
            " on)                                                                                              \n",
            "                                                                                                  \n",
            " block12_sepconv2 (SeparableCon  (None, 14, 14, 728)  536536     ['block12_sepconv2_act[0][0]']   \n",
            " v2D)                                                                                             \n",
            "                                                                                                  \n",
            " block12_sepconv2_bn (BatchNorm  (None, 14, 14, 728)  2912       ['block12_sepconv2[0][0]']       \n",
            " alization)                                                                                       \n",
            "                                                                                                  \n",
            " block12_sepconv3_act (Activati  (None, 14, 14, 728)  0          ['block12_sepconv2_bn[0][0]']    \n",
            " on)                                                                                              \n",
            "                                                                                                  \n",
            " block12_sepconv3 (SeparableCon  (None, 14, 14, 728)  536536     ['block12_sepconv3_act[0][0]']   \n",
            " v2D)                                                                                             \n",
            "                                                                                                  \n",
            " block12_sepconv3_bn (BatchNorm  (None, 14, 14, 728)  2912       ['block12_sepconv3[0][0]']       \n",
            " alization)                                                                                       \n",
            "                                                                                                  \n",
            " add_10 (Add)                   (None, 14, 14, 728)  0           ['block12_sepconv3_bn[0][0]',    \n",
            "                                                                  'add_9[0][0]']                  \n",
            "                                                                                                  \n",
            " block13_sepconv1_act (Activati  (None, 14, 14, 728)  0          ['add_10[0][0]']                 \n",
            " on)                                                                                              \n",
            "                                                                                                  \n",
            " block13_sepconv1 (SeparableCon  (None, 14, 14, 728)  536536     ['block13_sepconv1_act[0][0]']   \n",
            " v2D)                                                                                             \n",
            "                                                                                                  \n",
            " block13_sepconv1_bn (BatchNorm  (None, 14, 14, 728)  2912       ['block13_sepconv1[0][0]']       \n",
            " alization)                                                                                       \n",
            "                                                                                                  \n",
            " block13_sepconv2_act (Activati  (None, 14, 14, 728)  0          ['block13_sepconv1_bn[0][0]']    \n",
            " on)                                                                                              \n",
            "                                                                                                  \n",
            " block13_sepconv2 (SeparableCon  (None, 14, 14, 1024  752024     ['block13_sepconv2_act[0][0]']   \n",
            " v2D)                           )                                                                 \n",
            "                                                                                                  \n",
            " block13_sepconv2_bn (BatchNorm  (None, 14, 14, 1024  4096       ['block13_sepconv2[0][0]']       \n",
            " alization)                     )                                                                 \n",
            "                                                                                                  \n",
            " conv2d_3 (Conv2D)              (None, 7, 7, 1024)   745472      ['add_10[0][0]']                 \n",
            "                                                                                                  \n",
            " block13_pool (MaxPooling2D)    (None, 7, 7, 1024)   0           ['block13_sepconv2_bn[0][0]']    \n",
            "                                                                                                  \n",
            " batch_normalization_3 (BatchNo  (None, 7, 7, 1024)  4096        ['conv2d_3[0][0]']               \n",
            " rmalization)                                                                                     \n",
            "                                                                                                  \n",
            " add_11 (Add)                   (None, 7, 7, 1024)   0           ['block13_pool[0][0]',           \n",
            "                                                                  'batch_normalization_3[0][0]']  \n",
            "                                                                                                  \n",
            " block14_sepconv1 (SeparableCon  (None, 7, 7, 1536)  1582080     ['add_11[0][0]']                 \n",
            " v2D)                                                                                             \n",
            "                                                                                                  \n",
            " block14_sepconv1_bn (BatchNorm  (None, 7, 7, 1536)  6144        ['block14_sepconv1[0][0]']       \n",
            " alization)                                                                                       \n",
            "                                                                                                  \n",
            " block14_sepconv1_act (Activati  (None, 7, 7, 1536)  0           ['block14_sepconv1_bn[0][0]']    \n",
            " on)                                                                                              \n",
            "                                                                                                  \n",
            " block14_sepconv2 (SeparableCon  (None, 7, 7, 2048)  3159552     ['block14_sepconv1_act[0][0]']   \n",
            " v2D)                                                                                             \n",
            "                                                                                                  \n",
            " block14_sepconv2_bn (BatchNorm  (None, 7, 7, 2048)  8192        ['block14_sepconv2[0][0]']       \n",
            " alization)                                                                                       \n",
            "                                                                                                  \n",
            " block14_sepconv2_act (Activati  (None, 7, 7, 2048)  0           ['block14_sepconv2_bn[0][0]']    \n",
            " on)                                                                                              \n",
            "                                                                                                  \n",
            " flatten (Flatten)              (None, 100352)       0           ['block14_sepconv2_act[0][0]']   \n",
            "                                                                                                  \n",
            " dense (Dense)                  (None, 3)            301059      ['flatten[0][0]']                \n",
            "                                                                                                  \n",
            "==================================================================================================\n",
            "Total params: 21,162,539\n",
            "Trainable params: 301,059\n",
            "Non-trainable params: 20,861,480\n",
            "__________________________________________________________________________________________________\n"
          ]
        }
      ],
      "source": [
        "model.summary()"
      ]
    },
    {
      "cell_type": "code",
      "execution_count": null,
      "metadata": {
        "id": "wA9H7MAnYIgl"
      },
      "outputs": [],
      "source": [
        "model.compile(\n",
        "    loss = 'categorical_crossentropy',\n",
        "    optimizer = 'adam',\n",
        "    metrics = ['accuracy']\n",
        ")"
      ]
    },
    {
      "cell_type": "code",
      "execution_count": null,
      "metadata": {
        "id": "QElm2X2CYIgl"
      },
      "outputs": [],
      "source": [
        "train_datagen = ImageDataGenerator(\n",
        "    rescale=1./255,\n",
        "    shear_range=0.2,\n",
        "    zoom_range=0.2,\n",
        "    horizontal_flip=True\n",
        ")\n",
        "\n",
        "test_datagen = ImageDataGenerator(rescale=1./255)"
      ]
    },
    {
      "cell_type": "code",
      "execution_count": null,
      "metadata": {
        "colab": {
          "base_uri": "https://localhost:8080/"
        },
        "id": "xEIhRXV1YIgm",
        "outputId": "2771086c-85b1-4081-ec3f-90529e9ea62f"
      },
      "outputs": [
        {
          "output_type": "stream",
          "name": "stdout",
          "text": [
            "Found 34 images belonging to 3 classes.\n",
            "Found 9 images belonging to 3 classes.\n"
          ]
        }
      ],
      "source": [
        "trainning_set = train_datagen.flow_from_directory(\n",
        "    '/content/drive/MyDrive/Colab Notebooks/images/Train',\n",
        "    target_size=(224,224),\n",
        "    batch_size=32,\n",
        "    class_mode= 'categorical'\n",
        ")\n",
        "\n",
        "test_set = test_datagen.flow_from_directory(\n",
        "    '/content/drive/MyDrive/Colab Notebooks/images/Test',\n",
        "    target_size=(224,224),\n",
        "    batch_size=32,\n",
        "    class_mode='categorical'\n",
        ")"
      ]
    },
    {
      "cell_type": "code",
      "execution_count": null,
      "metadata": {
        "id": "CdEyYOzuYIgm",
        "colab": {
          "base_uri": "https://localhost:8080/"
        },
        "outputId": "dde0b1eb-d303-4753-a6d1-1d84a6976032"
      },
      "outputs": [
        {
          "output_type": "stream",
          "name": "stdout",
          "text": [
            "Epoch 1/50\n",
            "2/2 [==============================] - 15s 5s/step - loss: 15.7020 - accuracy: 0.2941 - val_loss: 6.0362 - val_accuracy: 0.3333\n",
            "Epoch 2/50\n",
            "2/2 [==============================] - 1s 581ms/step - loss: 1.0588 - accuracy: 0.6765 - val_loss: 3.7709 - val_accuracy: 0.4444\n",
            "Epoch 3/50\n",
            "2/2 [==============================] - 1s 612ms/step - loss: 1.6669 - accuracy: 0.7353 - val_loss: 4.0640 - val_accuracy: 0.6667\n",
            "Epoch 4/50\n",
            "2/2 [==============================] - 1s 102ms/step - loss: 1.8514 - accuracy: 0.7941 - val_loss: 0.4772 - val_accuracy: 0.8889\n",
            "Epoch 5/50\n",
            "2/2 [==============================] - 1s 105ms/step - loss: 0.5000 - accuracy: 0.9412 - val_loss: 0.4048 - val_accuracy: 0.8889\n",
            "Epoch 6/50\n",
            "2/2 [==============================] - 1s 567ms/step - loss: 0.5658 - accuracy: 0.8235 - val_loss: 0.9654 - val_accuracy: 0.7778\n",
            "Epoch 7/50\n",
            "2/2 [==============================] - 1s 111ms/step - loss: 1.0253 - accuracy: 0.8529 - val_loss: 0.2597 - val_accuracy: 0.8889\n",
            "Epoch 8/50\n",
            "2/2 [==============================] - 1s 106ms/step - loss: 0.1820 - accuracy: 0.9706 - val_loss: 0.0119 - val_accuracy: 1.0000\n",
            "Epoch 9/50\n",
            "2/2 [==============================] - 1s 579ms/step - loss: 0.0062 - accuracy: 1.0000 - val_loss: 0.0063 - val_accuracy: 1.0000\n",
            "Epoch 10/50\n",
            "2/2 [==============================] - 1s 108ms/step - loss: 0.0588 - accuracy: 0.9706 - val_loss: 0.0078 - val_accuracy: 1.0000\n",
            "Epoch 11/50\n",
            "2/2 [==============================] - 1s 103ms/step - loss: 0.0399 - accuracy: 0.9706 - val_loss: 0.0046 - val_accuracy: 1.0000\n",
            "Epoch 12/50\n",
            "2/2 [==============================] - 1s 575ms/step - loss: 0.0916 - accuracy: 0.9706 - val_loss: 0.0031 - val_accuracy: 1.0000\n",
            "Epoch 13/50\n",
            "2/2 [==============================] - 1s 103ms/step - loss: 0.2655 - accuracy: 0.9706 - val_loss: 0.0026 - val_accuracy: 1.0000\n",
            "Epoch 14/50\n",
            "2/2 [==============================] - 1s 106ms/step - loss: 0.0027 - accuracy: 1.0000 - val_loss: 0.0029 - val_accuracy: 1.0000\n",
            "Epoch 15/50\n",
            "2/2 [==============================] - 1s 113ms/step - loss: 6.8546e-04 - accuracy: 1.0000 - val_loss: 0.0033 - val_accuracy: 1.0000\n",
            "Epoch 16/50\n",
            "2/2 [==============================] - 1s 99ms/step - loss: 0.0811 - accuracy: 0.9706 - val_loss: 9.0527e-05 - val_accuracy: 1.0000\n",
            "Epoch 17/50\n",
            "2/2 [==============================] - 1s 110ms/step - loss: 0.0671 - accuracy: 0.9706 - val_loss: 0.0324 - val_accuracy: 1.0000\n",
            "Epoch 18/50\n",
            "2/2 [==============================] - 1s 102ms/step - loss: 0.0427 - accuracy: 0.9706 - val_loss: 0.9606 - val_accuracy: 0.7778\n",
            "Epoch 19/50\n",
            "2/2 [==============================] - 1s 103ms/step - loss: 0.0207 - accuracy: 1.0000 - val_loss: 2.2943 - val_accuracy: 0.7778\n",
            "Epoch 20/50\n",
            "2/2 [==============================] - 1s 104ms/step - loss: 0.8631 - accuracy: 0.8529 - val_loss: 2.2254 - val_accuracy: 0.7778\n",
            "Epoch 21/50\n",
            "2/2 [==============================] - 1s 118ms/step - loss: 0.5159 - accuracy: 0.8824 - val_loss: 0.3321 - val_accuracy: 0.8889\n",
            "Epoch 22/50\n",
            "2/2 [==============================] - 1s 617ms/step - loss: 7.2469e-06 - accuracy: 1.0000 - val_loss: 6.6611e-05 - val_accuracy: 1.0000\n",
            "Epoch 23/50\n",
            "2/2 [==============================] - 1s 781ms/step - loss: 4.9486e-04 - accuracy: 1.0000 - val_loss: 0.0787 - val_accuracy: 1.0000\n",
            "Epoch 24/50\n",
            "2/2 [==============================] - 1s 813ms/step - loss: 0.0100 - accuracy: 1.0000 - val_loss: 0.8097 - val_accuracy: 0.7778\n",
            "Epoch 25/50\n",
            "2/2 [==============================] - 1s 124ms/step - loss: 0.1080 - accuracy: 0.9412 - val_loss: 1.8238 - val_accuracy: 0.6667\n",
            "Epoch 26/50\n",
            "2/2 [==============================] - 1s 727ms/step - loss: 0.4347 - accuracy: 0.8824 - val_loss: 2.5610 - val_accuracy: 0.6667\n",
            "Epoch 27/50\n",
            "2/2 [==============================] - 1s 110ms/step - loss: 0.6072 - accuracy: 0.9118 - val_loss: 1.7289 - val_accuracy: 0.6667\n",
            "Epoch 28/50\n",
            "2/2 [==============================] - 1s 101ms/step - loss: 0.8524 - accuracy: 0.9412 - val_loss: 0.8041 - val_accuracy: 0.8889\n",
            "Epoch 29/50\n",
            "2/2 [==============================] - 1s 579ms/step - loss: 0.0313 - accuracy: 1.0000 - val_loss: 0.4726 - val_accuracy: 0.8889\n",
            "Epoch 30/50\n",
            "2/2 [==============================] - 1s 573ms/step - loss: 0.0154 - accuracy: 1.0000 - val_loss: 0.1941 - val_accuracy: 0.8889\n",
            "Epoch 31/50\n",
            "2/2 [==============================] - 1s 582ms/step - loss: 0.1771 - accuracy: 0.9706 - val_loss: 0.0297 - val_accuracy: 1.0000\n",
            "Epoch 32/50\n",
            "2/2 [==============================] - 1s 571ms/step - loss: 8.5045e-05 - accuracy: 1.0000 - val_loss: 0.0026 - val_accuracy: 1.0000\n",
            "Epoch 33/50\n",
            "2/2 [==============================] - 1s 105ms/step - loss: 6.5565e-07 - accuracy: 1.0000 - val_loss: 3.0811e-04 - val_accuracy: 1.0000\n",
            "Epoch 34/50\n",
            "2/2 [==============================] - 1s 102ms/step - loss: 0.0215 - accuracy: 1.0000 - val_loss: 5.9271e-05 - val_accuracy: 1.0000\n",
            "Epoch 35/50\n",
            "2/2 [==============================] - 1s 586ms/step - loss: 2.9452e-07 - accuracy: 1.0000 - val_loss: 1.5523e-05 - val_accuracy: 1.0000\n",
            "Epoch 36/50\n",
            "2/2 [==============================] - 1s 115ms/step - loss: 3.9301e-06 - accuracy: 1.0000 - val_loss: 5.7352e-06 - val_accuracy: 1.0000\n",
            "Epoch 37/50\n",
            "2/2 [==============================] - 1s 103ms/step - loss: 3.0433e-05 - accuracy: 1.0000 - val_loss: 3.4835e-06 - val_accuracy: 1.0000\n",
            "Epoch 38/50\n",
            "2/2 [==============================] - 1s 120ms/step - loss: 3.5308e-05 - accuracy: 1.0000 - val_loss: 3.6027e-06 - val_accuracy: 1.0000\n",
            "Epoch 39/50\n",
            "2/2 [==============================] - 1s 106ms/step - loss: 0.0029 - accuracy: 1.0000 - val_loss: 2.3974e-06 - val_accuracy: 1.0000\n",
            "Epoch 40/50\n",
            "2/2 [==============================] - 1s 573ms/step - loss: 9.5145e-06 - accuracy: 1.0000 - val_loss: 1.1259e-06 - val_accuracy: 1.0000\n",
            "Epoch 41/50\n",
            "2/2 [==============================] - 1s 101ms/step - loss: 0.0019 - accuracy: 1.0000 - val_loss: 6.3578e-07 - val_accuracy: 1.0000\n",
            "Epoch 42/50\n",
            "2/2 [==============================] - 1s 580ms/step - loss: 1.4507e-05 - accuracy: 1.0000 - val_loss: 4.7684e-07 - val_accuracy: 1.0000\n",
            "Epoch 43/50\n",
            "2/2 [==============================] - 1s 574ms/step - loss: 3.2454e-05 - accuracy: 1.0000 - val_loss: 3.8412e-07 - val_accuracy: 1.0000\n",
            "Epoch 44/50\n",
            "2/2 [==============================] - 1s 576ms/step - loss: 6.3101e-05 - accuracy: 1.0000 - val_loss: 3.3114e-07 - val_accuracy: 1.0000\n",
            "Epoch 45/50\n",
            "2/2 [==============================] - 1s 579ms/step - loss: 8.5356e-04 - accuracy: 1.0000 - val_loss: 2.9140e-07 - val_accuracy: 1.0000\n",
            "Epoch 46/50\n",
            "2/2 [==============================] - 1s 614ms/step - loss: 3.8003e-04 - accuracy: 1.0000 - val_loss: 2.7815e-07 - val_accuracy: 1.0000\n",
            "Epoch 47/50\n",
            "2/2 [==============================] - 1s 579ms/step - loss: 1.9216e-05 - accuracy: 1.0000 - val_loss: 2.6491e-07 - val_accuracy: 1.0000\n",
            "Epoch 48/50\n",
            "2/2 [==============================] - 1s 571ms/step - loss: 2.4543e-07 - accuracy: 1.0000 - val_loss: 2.3842e-07 - val_accuracy: 1.0000\n",
            "Epoch 49/50\n",
            "2/2 [==============================] - 1s 574ms/step - loss: 1.1247e-04 - accuracy: 1.0000 - val_loss: 2.3842e-07 - val_accuracy: 1.0000\n",
            "Epoch 50/50\n",
            "2/2 [==============================] - 1s 571ms/step - loss: 2.5980e-06 - accuracy: 1.0000 - val_loss: 2.2517e-07 - val_accuracy: 1.0000\n"
          ]
        }
      ],
      "source": [
        "r = model.fit(\n",
        "    trainning_set,\n",
        "    validation_data= test_set,\n",
        "    epochs = 50,\n",
        "    steps_per_epoch=len(trainning_set),\n",
        "    validation_steps= len(test_set)\n",
        ")"
      ]
    },
    {
      "cell_type": "code",
      "execution_count": null,
      "metadata": {
        "colab": {
          "base_uri": "https://localhost:8080/",
          "height": 282
        },
        "id": "yQGDJCSdYIgn",
        "outputId": "d0a0978b-57f8-42e4-f42d-6dd29ff2f435"
      },
      "outputs": [
        {
          "output_type": "display_data",
          "data": {
            "text/plain": [
              "<Figure size 432x288 with 1 Axes>"
            ],
            "image/png": "[encoded data removed]"
          },
          "metadata": {
            "needs_background": "light"
          }
        },
        {
          "output_type": "display_data",
          "data": {
            "text/plain": [
              "<Figure size 432x288 with 0 Axes>"
            ]
          },
          "metadata": {}
        }
      ],
      "source": [
        "plt.plot(r.history['loss'], label='train loss')\n",
        "plt.plot(r.history['val_loss'], label='val loss')\n",
        "plt.legend()\n",
        "plt.show()\n",
        "plt.savefig('LossVal_loss')"
      ]
    },
    {
      "cell_type": "code",
      "source": [
        "plt.plot(r.history['accuracy'], label='train acc')\n",
        "plt.plot(r.history['val_accuracy'], label='val acc')\n",
        "plt.legend()\n",
        "plt.show()\n",
        "plt.savefig('LossVal_loss')"
      ],
      "metadata": {
        "id": "o01PZcxHcXRh",
        "colab": {
          "base_uri": "https://localhost:8080/",
          "height": 282
        },
        "outputId": "86489f11-26b4-4f75-a3ff-50cfb7fa2985"
      },
      "execution_count": null,
      "outputs": [
        {
          "output_type": "display_data",
          "data": {
            "text/plain": [
              "<Figure size 432x288 with 1 Axes>"
            ],
            "image/png": "[encoded data removed]"
          },
          "metadata": {
            "needs_background": "light"
          }
        },
        {
          "output_type": "display_data",
          "data": {
            "text/plain": [
              "<Figure size 432x288 with 0 Axes>"
            ]
          },
          "metadata": {}
        }
      ]
    },
    {
      "cell_type": "code",
      "source": [
        "r.history"
      ],
      "metadata": {
        "colab": {
          "base_uri": "https://localhost:8080/"
        },
        "id": "hWrn2OBmcf9l",
        "outputId": "eedf4023-569f-4809-a155-2abc2a5f7f6c"
      },
      "execution_count": null,
      "outputs": [
        {
          "output_type": "execute_result",
          "data": {
            "text/plain": [
              "{'loss': [15.70196533203125,\n",
              "  1.0588120222091675,\n",
              "  1.6669423580169678,\n",
              "  1.8513599634170532,\n",
              "  0.50002121925354,\n",
              "  0.5658072829246521,\n",
              "  1.0253194570541382,\n",
              "  0.18198277056217194,\n",
              "  0.006218158174306154,\n",
              "  0.05881680175662041,\n",
              "  0.039852116256952286,\n",
              "  0.0916098803281784,\n",
              "  0.26546046137809753,\n",
              "  0.0027277683839201927,\n",
              "  0.0006854619132354856,\n",
              "  0.08110266923904419,\n",
              "  0.06714706867933273,\n",
              "  0.04273153841495514,\n",
              "  0.020714325830340385,\n",
              "  0.8631027936935425,\n",
              "  0.5158603191375732,\n",
              "  7.246864242915763e-06,\n",
              "  0.0004948599962517619,\n",
              "  0.010020803660154343,\n",
              "  0.10803836584091187,\n",
              "  0.4346681535243988,\n",
              "  0.6072091460227966,\n",
              "  0.8523789048194885,\n",
              "  0.031324662268161774,\n",
              "  0.01539637055248022,\n",
              "  0.17707738280296326,\n",
              "  8.504538709530607e-05,\n",
              "  6.556454081874108e-07,\n",
              "  0.021469274535775185,\n",
              "  2.9451615546349785e-07,\n",
              "  3.930146249331301e-06,\n",
              "  3.043345350306481e-05,\n",
              "  3.53084942616988e-05,\n",
              "  0.002913867821916938,\n",
              "  9.514532393950503e-06,\n",
              "  0.0018928577192127705,\n",
              "  1.4506800653180107e-05,\n",
              "  3.245387415518053e-05,\n",
              "  6.310128082986921e-05,\n",
              "  0.0008535556262359023,\n",
              "  0.0003800347913056612,\n",
              "  1.921622606460005e-05,\n",
              "  2.454299874443677e-07,\n",
              "  0.00011247379006817937,\n",
              "  2.5979807105613872e-06],\n",
              " 'accuracy': [0.29411765933036804,\n",
              "  0.6764705777168274,\n",
              "  0.7352941036224365,\n",
              "  0.7941176295280457,\n",
              "  0.9411764740943909,\n",
              "  0.8235294222831726,\n",
              "  0.8529411554336548,\n",
              "  0.970588207244873,\n",
              "  1.0,\n",
              "  0.970588207244873,\n",
              "  0.970588207244873,\n",
              "  0.970588207244873,\n",
              "  0.970588207244873,\n",
              "  1.0,\n",
              "  1.0,\n",
              "  0.970588207244873,\n",
              "  0.970588207244873,\n",
              "  0.970588207244873,\n",
              "  1.0,\n",
              "  0.8529411554336548,\n",
              "  0.8823529481887817,\n",
              "  1.0,\n",
              "  1.0,\n",
              "  1.0,\n",
              "  0.9411764740943909,\n",
              "  0.8823529481887817,\n",
              "  0.9117646813392639,\n",
              "  0.9411764740943909,\n",
              "  1.0,\n",
              "  1.0,\n",
              "  0.970588207244873,\n",
              "  1.0,\n",
              "  1.0,\n",
              "  1.0,\n",
              "  1.0,\n",
              "  1.0,\n",
              "  1.0,\n",
              "  1.0,\n",
              "  1.0,\n",
              "  1.0,\n",
              "  1.0,\n",
              "  1.0,\n",
              "  1.0,\n",
              "  1.0,\n",
              "  1.0,\n",
              "  1.0,\n",
              "  1.0,\n",
              "  1.0,\n",
              "  1.0,\n",
              "  1.0],\n",
              " 'val_loss': [6.036220550537109,\n",
              "  3.7709338665008545,\n",
              "  4.064025402069092,\n",
              "  0.4772447347640991,\n",
              "  0.4047926068305969,\n",
              "  0.96544349193573,\n",
              "  0.2596903443336487,\n",
              "  0.011877130717039108,\n",
              "  0.0063198525458574295,\n",
              "  0.007828069850802422,\n",
              "  0.004584794864058495,\n",
              "  0.00309540843591094,\n",
              "  0.002594051416963339,\n",
              "  0.00292031723074615,\n",
              "  0.0033003841526806355,\n",
              "  9.052709356183186e-05,\n",
              "  0.03235885128378868,\n",
              "  0.9606462121009827,\n",
              "  2.294339895248413,\n",
              "  2.2254154682159424,\n",
              "  0.3321104645729065,\n",
              "  6.661115912720561e-05,\n",
              "  0.07865147292613983,\n",
              "  0.8097264170646667,\n",
              "  1.8237642049789429,\n",
              "  2.5609562397003174,\n",
              "  1.7288559675216675,\n",
              "  0.8040990829467773,\n",
              "  0.47258907556533813,\n",
              "  0.19411449134349823,\n",
              "  0.02969725988805294,\n",
              "  0.00255023711360991,\n",
              "  0.0003081125905737281,\n",
              "  5.927099846303463e-05,\n",
              "  1.552265530335717e-05,\n",
              "  5.735176728194347e-06,\n",
              "  3.4835336464311695e-06,\n",
              "  3.6027381611347664e-06,\n",
              "  2.3974171199370176e-06,\n",
              "  1.1258629228905193e-06,\n",
              "  6.357819302138523e-07,\n",
              "  4.768365045038081e-07,\n",
              "  3.841183229269518e-07,\n",
              "  3.311364764613245e-07,\n",
              "  2.914001413500955e-07,\n",
              "  2.7815471526082547e-07,\n",
              "  2.64909260749846e-07,\n",
              "  2.3841832330617763e-07,\n",
              "  2.3841832330617763e-07,\n",
              "  2.2517286879519816e-07],\n",
              " 'val_accuracy': [0.3333333432674408,\n",
              "  0.4444444477558136,\n",
              "  0.6666666865348816,\n",
              "  0.8888888955116272,\n",
              "  0.8888888955116272,\n",
              "  0.7777777910232544,\n",
              "  0.8888888955116272,\n",
              "  1.0,\n",
              "  1.0,\n",
              "  1.0,\n",
              "  1.0,\n",
              "  1.0,\n",
              "  1.0,\n",
              "  1.0,\n",
              "  1.0,\n",
              "  1.0,\n",
              "  1.0,\n",
              "  0.7777777910232544,\n",
              "  0.7777777910232544,\n",
              "  0.7777777910232544,\n",
              "  0.8888888955116272,\n",
              "  1.0,\n",
              "  1.0,\n",
              "  0.7777777910232544,\n",
              "  0.6666666865348816,\n",
              "  0.6666666865348816,\n",
              "  0.6666666865348816,\n",
              "  0.8888888955116272,\n",
              "  0.8888888955116272,\n",
              "  0.8888888955116272,\n",
              "  1.0,\n",
              "  1.0,\n",
              "  1.0,\n",
              "  1.0,\n",
              "  1.0,\n",
              "  1.0,\n",
              "  1.0,\n",
              "  1.0,\n",
              "  1.0,\n",
              "  1.0,\n",
              "  1.0,\n",
              "  1.0,\n",
              "  1.0,\n",
              "  1.0,\n",
              "  1.0,\n",
              "  1.0,\n",
              "  1.0,\n",
              "  1.0,\n",
              "  1.0,\n",
              "  1.0]}"
            ]
          },
          "metadata": {},
          "execution_count": 19
        }
      ]
    },
    {
      "cell_type": "code",
      "source": [
        "model.save(\"model_using_xception.h5\")"
      ],
      "metadata": {
        "id": "Pr7DAAcHcvKI"
      },
      "execution_count": null,
      "outputs": []
    },
    {
      "cell_type": "code",
      "source": [
        "predict_datagen = ImageDataGenerator( rescale = 1./255 )\n",
        "\n",
        "predict_generator =  predict_datagen.flow_from_directory(\n",
        "                    \"/content/drive/MyDrive/Colab Notebooks/images/Test/\",\n",
        "                    target_size=(224,224),\n",
        "                    batch_size=32,\n",
        "                    class_mode= 'categorical'\n",
        "                    )"
      ],
      "metadata": {
        "colab": {
          "base_uri": "https://localhost:8080/"
        },
        "id": "8u9gs4IKKqXI",
        "outputId": "88c1dcba-269a-44a9-888d-4fae3053e424"
      },
      "execution_count": null,
      "outputs": [
        {
          "output_type": "stream",
          "name": "stdout",
          "text": [
            "Found 14 images belonging to 3 classes.\n"
          ]
        }
      ]
    },
    {
      "cell_type": "code",
      "source": [
        "pred = model.predict_generator(predict_generator,verbose=1)"
      ],
      "metadata": {
        "colab": {
          "base_uri": "https://localhost:8080/"
        },
        "id": "WAD4-wJoLiii",
        "outputId": "4c169b84-fa6c-41c2-e9ba-251aa54ca94c"
      },
      "execution_count": null,
      "outputs": [
        {
          "output_type": "stream",
          "name": "stdout",
          "text": [
            "1/1 [==============================] - 0s 78ms/step\n"
          ]
        },
        {
          "output_type": "stream",
          "name": "stderr",
          "text": [
            "<ipython-input-36-9ab07299187b>:1: UserWarning: `Model.predict_generator` is deprecated and will be removed in a future version. Please use `Model.predict`, which supports generators.\n",
            "  pred = model.predict_generator(predict_generator,verbose=1)\n"
          ]
        }
      ]
    },
    {
      "cell_type": "code",
      "source": [
        "import numpy as np\n",
        "predicted_class_indices=np.argmax(pred,axis=1)"
      ],
      "metadata": {
        "id": "W4ITAzUiLpwq"
      },
      "execution_count": null,
      "outputs": []
    },
    {
      "cell_type": "code",
      "source": [
        "predicted_class_indices"
      ],
      "metadata": {
        "colab": {
          "base_uri": "https://localhost:8080/"
        },
        "id": "Hudnf0FKNDMn",
        "outputId": "ca123d56-1c4e-4076-995a-5ad0b92c1eb8"
      },
      "execution_count": null,
      "outputs": [
        {
          "output_type": "execute_result",
          "data": {
            "text/plain": [
              "array([0, 2, 2, 0, 2, 2, 0, 1, 1, 2, 1, 0, 1, 1])"
            ]
          },
          "metadata": {},
          "execution_count": 38
        }
      ]
    },
    {
      "cell_type": "code",
      "source": [
        "labels = (trainning_set.class_indices)\n",
        "print(labels)"
      ],
      "metadata": {
        "colab": {
          "base_uri": "https://localhost:8080/"
        },
        "id": "M-Qq57YaLwK1",
        "outputId": "7b09745a-9d66-4b2a-c6a3-abb517a56bb8"
      },
      "execution_count": null,
      "outputs": [
        {
          "output_type": "stream",
          "name": "stdout",
          "text": [
            "{'pepper': 0, 'potato': 1, 'tomato': 2}\n"
          ]
        }
      ]
    },
    {
      "cell_type": "code",
      "source": [
        "labels = dict((v,k) for k,v in labels.items())\n",
        "print(labels)"
      ],
      "metadata": {
        "colab": {
          "base_uri": "https://localhost:8080/"
        },
        "id": "s46WFSZCRoPN",
        "outputId": "6e939352-c595-4767-d194-145221d7e69b"
      },
      "execution_count": null,
      "outputs": [
        {
          "output_type": "stream",
          "name": "stdout",
          "text": [
            "{0: 'pepper', 1: 'potato', 2: 'tomato'}\n"
          ]
        }
      ]
    },
    {
      "cell_type": "code",
      "source": [
        "predictions = [labels[k] for k in predicted_class_indices]\n",
        "print(predictions)"
      ],
      "metadata": {
        "colab": {
          "base_uri": "https://localhost:8080/"
        },
        "id": "DQXLZacsL0MW",
        "outputId": "438560d9-3311-4644-e15b-643e86fed6e0"
      },
      "execution_count": null,
      "outputs": [
        {
          "output_type": "stream",
          "name": "stdout",
          "text": [
            "['pepper', 'tomato', 'tomato', 'pepper', 'tomato', 'tomato', 'pepper', 'potato', 'potato', 'tomato', 'potato', 'pepper', 'potato', 'potato']\n"
          ]
        }
      ]
    },
    {
      "cell_type": "code",
      "source": [],
      "metadata": {
        "colab": {
          "base_uri": "https://localhost:8080/"
        },
        "id": "6eDGK0d8MLkB",
        "outputId": "a7d74368-c283-460c-826b-92553c1e02f1"
      },
      "execution_count": null,
      "outputs": [
        {
          "output_type": "execute_result",
          "data": {
            "text/plain": [
              "14"
            ]
          },
          "metadata": {},
          "execution_count": 65
        }
      ]
    },
    {
      "cell_type": "code",
      "source": [],
      "metadata": {
        "id": "ovx--uwjSuq0"
      },
      "execution_count": null,
      "outputs": []
    }
  ],
  "metadata": {
    "kernelspec": {
      "display_name": "base",
      "language": "python",
      "name": "python3"
    },
    "language_info": {
      "codemirror_mode": {
        "name": "ipython",
        "version": 3
      },
      "file_extension": ".py",
      "mimetype": "text/x-python",
      "name": "python",
      "nbconvert_exporter": "python",
      "pygments_lexer": "ipython3",
      "version": "3.9.12"
    },
    "orig_nbformat": 4,
    "vscode": {
      "interpreter": {
        "hash": "a2ab3825ac7005fb7b26f112e9c99ae62f464c629e30b0d534c3b931b6cbc3ff"
      }
    },
    "colab": {
      "provenance": [],
      "include_colab_link": true
    },
    "accelerator": "GPU",
    "gpuClass": "standard"
  },
  "nbformat": 4,
  "nbformat_minor": 0
}